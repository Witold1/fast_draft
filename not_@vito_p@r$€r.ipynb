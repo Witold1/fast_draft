{
 "cells": [
  {
   "cell_type": "markdown",
   "metadata": {},
   "source": [
    "<p style = \"font-family:georgia,garamond,serif;font-size:16px;font-style:italic;\">\n",
    "Бұл ноутбук хабарландыру тақтасының парсердің өрескел мысалы болып табылады.\n",
    "\n",
    "_Bul nowtbwk xabarlandırw taqtasınıñ parserdiñ öreskel mısalı bolıp tabıladı._\n",
    "</p>"
   ]
  },
  {
   "cell_type": "code",
   "execution_count": 214,
   "metadata": {},
   "outputs": [],
   "source": [
    "import requests\n",
    "from bs4 import BeautifulSoup\n",
    "import matplotlib.pyplot as plt\n",
    "import seaborn as sns"
   ]
  },
  {
   "cell_type": "code",
   "execution_count": 5,
   "metadata": {},
   "outputs": [],
   "source": [
    "# page = requests.get('https://www.avito.ru/rossiya/kvartiry/sdam/posutochno/3-komnatnye?p=2')"
   ]
  },
  {
   "cell_type": "code",
   "execution_count": 154,
   "metadata": {},
   "outputs": [
    {
     "data": {
      "text/plain": [
       "True"
      ]
     },
     "execution_count": 154,
     "metadata": {},
     "output_type": "execute_result"
    }
   ],
   "source": [
    "# file = open(\"resp_text.txt\", \"w\", encoding='utf-8')\n",
    "# file.write(page.text)\n",
    "# file.close()\n",
    "\n",
    "file = open(\"resp_text.txt\", \"r+\", encoding='utf-8')\n",
    "file.read() == page.text\n",
    "#page_1 = file.write(page.text)"
   ]
  },
  {
   "cell_type": "code",
   "execution_count": 215,
   "metadata": {},
   "outputs": [
    {
     "data": {
      "text/plain": [
       "200"
      ]
     },
     "execution_count": 215,
     "metadata": {},
     "output_type": "execute_result"
    }
   ],
   "source": [
    "page.status_code"
   ]
  },
  {
   "cell_type": "code",
   "execution_count": 216,
   "metadata": {},
   "outputs": [],
   "source": [
    "soup = BeautifulSoup(page.text)"
   ]
  },
  {
   "cell_type": "code",
   "execution_count": 217,
   "metadata": {},
   "outputs": [
    {
     "name": "stdout",
     "output_type": "stream",
     "text": [
      "Wall time: 233 ms\n"
     ]
    }
   ],
   "source": [
    "%%time\n",
    "items = soup.findAll('div', {'class':'item item_table clearfix js-catalog-item-enum item-with-contact js-item-extended'})\n",
    "vips = soup.findAll('div', {'class':'serp-vips'})"
   ]
  },
  {
   "cell_type": "code",
   "execution_count": 218,
   "metadata": {},
   "outputs": [],
   "source": [
    "prices = []\n",
    "for item in items:\n",
    "    #price = int()\n",
    "    prices.append(item.find('div', {'class':'description item_table-description'}).\\\n",
    "    find('div', {'class':'item_table-header'}).find('span', {'itemprop':'price'})['content'])\n",
    "               #.findAll('span')[1]"
   ]
  },
  {
   "cell_type": "code",
   "execution_count": 219,
   "metadata": {},
   "outputs": [
    {
     "name": "stdout",
     "output_type": "stream",
     "text": [
      "Average price of pages from #1 to #1 (49 items) is 2747.735 rub\n"
     ]
    }
   ],
   "source": [
    "aux_dict_to_format = {'number_of_items' : len(prices),\n",
    "                      'price' : round(sum(list(map(int, prices))) / len(prices), 3), \n",
    "                      'pages': [1, 1]}\n",
    "print('Average price of pages from #{pages[0]} to #{pages[1]} ({number_of_items} items) is {price} rub'.format_map(aux_dict_to_format))\n",
    "del aux_dict_to_format"
   ]
  },
  {
   "cell_type": "code",
   "execution_count": 220,
   "metadata": {},
   "outputs": [
    {
     "data": {
      "image/png": "[encoded data removed]",
      "text/plain": [
       "<Figure size 432x288 with 1 Axes>"
      ]
     },
     "metadata": {},
     "output_type": "display_data"
    }
   ],
   "source": [
    "## https://seaborn.pydata.org/tutorial/aesthetics.html\n",
    "# sns.set_style(\"dark\")\n",
    "sns.set_style(\"ticks\")\n",
    "ax = sns.distplot(list(map(int, prices)))\n",
    "sns.despine(offset=10, trim=True);\n",
    "ax.set_title('Distribution of scraped prices')\n",
    "ax.set(xlabel='Prices', \n",
    "       ylabel='Frequency')\n",
    "plt.axvline(x=2747.735, ymin=0, ymax=1., c='green')\n",
    "plt.text(x=2790, y=0.0003, s='mean', c='green', rotation=-90, weight='bold');\n",
    "del ax"
   ]
  },
  {
   "cell_type": "code",
   "execution_count": null,
   "metadata": {},
   "outputs": [],
   "source": []
  }
 ],
 "metadata": {
  "kernelspec": {
   "display_name": "Python 3",
   "language": "python",
   "name": "python3"
  },
  "language_info": {
   "codemirror_mode": {
    "name": "ipython",
    "version": 3
   },
   "file_extension": ".py",
   "mimetype": "text/x-python",
   "name": "python",
   "nbconvert_exporter": "python",
   "pygments_lexer": "ipython3",
   "version": "3.7.3"
  }
 },
 "nbformat": 4,
 "nbformat_minor": 2
}
