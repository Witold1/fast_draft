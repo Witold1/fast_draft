{
 "cells": [
  {
   "cell_type": "code",
   "execution_count": 8,
   "metadata": {},
   "outputs": [],
   "source": [
    "raw_data = '''\tЭкспорт\tИмпорт\n",
    "Россия\t1181,2\t3305,2\n",
    "Беларусь\t38,7\t11,0\n",
    "Казахстан\t18,0\t11,8\n",
    "Австрия\t7,7\t47,2\n",
    "Бельгия\t9,6\t21,1\n",
    "Великобритания\t58,2\t136,4\n",
    "Венгрия\t144,7\t0,5\n",
    "Германия\t54,2\t797,1\n",
    "Дания\t3,9\t56,6\n",
    "Испания\t2,6\t36,8\n",
    "Италия\t27,8\t326,0\n",
    "Канада\t2,6\t50,5\n",
    "Люксембург\t9,9\t98,2\n",
    "Нидерланды\t31,4\t122,6\n",
    "Республика Корея\t7,6\t73,8\n",
    "США\t167,7\t262,2\n",
    "Финляндия\t30,9\t43,6\n",
    "Франция\t20,5\t122,5\n",
    "Чехия\t0,4\t30,2\n",
    "Швейцария\t23,3\t148,7\n",
    "Швеция\t4,8\t27,2\n",
    "Япония\t5,0\t49,9\n",
    "Индия\t230,9\t4,7\n",
    "Кипр\t6,1\t58,3\n",
    "Китай\t135,3\t417,3'''"
   ]
  },
  {
   "cell_type": "code",
   "execution_count": 25,
   "metadata": {},
   "outputs": [],
   "source": [
    "data_mod = raw_data.replace(',', '.')\n",
    "data_mod = raw_data.split('\\n')\n",
    "data_mod = [row.split('\\t') for row in data_mod]\n",
    "# data_mod = [[row[0], float(row[1]), float(row[2])] for indx, row in enumerate(data_mod) if indx>=1]"
   ]
  },
  {
   "cell_type": "code",
   "execution_count": 10,
   "metadata": {},
   "outputs": [],
   "source": [
    "import pandas as pd"
   ]
  },
  {
   "cell_type": "code",
   "execution_count": 35,
   "metadata": {},
   "outputs": [],
   "source": [
    "df = pd.DataFrame(data_mod[1:], columns=data_mod[0])\n",
    "df['Экспорт'] = df['Экспорт'].str.replace(',', '.').astype(float)\n",
    "df['Импорт'] = df['Импорт'].str.replace(',', '.').astype(float)"
   ]
  },
  {
   "cell_type": "code",
   "execution_count": 36,
   "metadata": {},
   "outputs": [
    {
     "name": "stdout",
     "output_type": "stream",
     "text": [
      "<class 'pandas.core.frame.DataFrame'>\n",
      "RangeIndex: 25 entries, 0 to 24\n",
      "Data columns (total 3 columns):\n",
      "           25 non-null object\n",
      "Экспорт    25 non-null float64\n",
      "Импорт     25 non-null float64\n",
      "dtypes: float64(2), object(1)\n",
      "memory usage: 680.0+ bytes\n"
     ]
    }
   ],
   "source": [
    "df.info()"
   ]
  },
  {
   "cell_type": "code",
   "execution_count": 37,
   "metadata": {},
   "outputs": [
    {
     "data": {
      "text/html": [
       "<div>\n",
       "<style scoped>\n",
       "    .dataframe tbody tr th:only-of-type {\n",
       "        vertical-align: middle;\n",
       "    }\n",
       "\n",
       "    .dataframe tbody tr th {\n",
       "        vertical-align: top;\n",
       "    }\n",
       "\n",
       "    .dataframe thead th {\n",
       "        text-align: right;\n",
       "    }\n",
       "</style>\n",
       "<table border=\"1\" class=\"dataframe\">\n",
       "  <thead>\n",
       "    <tr style=\"text-align: right;\">\n",
       "      <th></th>\n",
       "      <th></th>\n",
       "      <th>Экспорт</th>\n",
       "      <th>Импорт</th>\n",
       "    </tr>\n",
       "  </thead>\n",
       "  <tbody>\n",
       "    <tr>\n",
       "      <th>0</th>\n",
       "      <td>Россия</td>\n",
       "      <td>1181.2</td>\n",
       "      <td>3305.2</td>\n",
       "    </tr>\n",
       "    <tr>\n",
       "      <th>1</th>\n",
       "      <td>Беларусь</td>\n",
       "      <td>38.7</td>\n",
       "      <td>11.0</td>\n",
       "    </tr>\n",
       "    <tr>\n",
       "      <th>2</th>\n",
       "      <td>Казахстан</td>\n",
       "      <td>18.0</td>\n",
       "      <td>11.8</td>\n",
       "    </tr>\n",
       "    <tr>\n",
       "      <th>3</th>\n",
       "      <td>Австрия</td>\n",
       "      <td>7.7</td>\n",
       "      <td>47.2</td>\n",
       "    </tr>\n",
       "    <tr>\n",
       "      <th>4</th>\n",
       "      <td>Бельгия</td>\n",
       "      <td>9.6</td>\n",
       "      <td>21.1</td>\n",
       "    </tr>\n",
       "  </tbody>\n",
       "</table>\n",
       "</div>"
      ],
      "text/plain": [
       "              Экспорт  Импорт\n",
       "0     Россия   1181.2  3305.2\n",
       "1   Беларусь     38.7    11.0\n",
       "2  Казахстан     18.0    11.8\n",
       "3    Австрия      7.7    47.2\n",
       "4    Бельгия      9.6    21.1"
      ]
     },
     "execution_count": 37,
     "metadata": {},
     "output_type": "execute_result"
    }
   ],
   "source": [
    "df.head()"
   ]
  },
  {
   "cell_type": "markdown",
   "metadata": {},
   "source": [
    "## Что можно попробовать?"
   ]
  },
  {
   "attachments": {},
   "cell_type": "markdown",
   "metadata": {},
   "source": [
    "**Radial Column Chart**\n",
    "![](https://datavizcatalogue.com/methods/images/top_images/SVG/radial_column_chart.svg)\n",
    "**Nightingale Rose Chart**\n",
    "![](https://datavizcatalogue.com/methods/images/top_images/SVG/nightingale_rose_chart.svg)\n",
    "**Radial Bar Chart**\n",
    "![](https://datavizcatalogue.com/methods/images/top_images/radial_bar_chart.png)"
   ]
  },
  {
   "cell_type": "code",
   "execution_count": null,
   "metadata": {},
   "outputs": [],
   "source": []
  }
 ],
 "metadata": {
  "kernelspec": {
   "display_name": "Python 3",
   "language": "python",
   "name": "python3"
  },
  "language_info": {
   "codemirror_mode": {
    "name": "ipython",
    "version": 3
   },
   "file_extension": ".py",
   "mimetype": "text/x-python",
   "name": "python",
   "nbconvert_exporter": "python",
   "pygments_lexer": "ipython3",
   "version": "3.6.2"
  }
 },
 "nbformat": 4,
 "nbformat_minor": 2
}
