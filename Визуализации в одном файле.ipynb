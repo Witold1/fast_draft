{
 "cells": [
  {
   "cell_type": "markdown",
   "metadata": {},
   "source": [
    "## Структура:\n",
    "* Что есть\n",
    "* Что рассчитываю успеть\n",
    "* Что еще сделал\n",
    "    * > [Часть 2](#Часть-2)"
   ]
  },
  {
   "cell_type": "markdown",
   "metadata": {},
   "source": [
    "## 1. Фоновая статичная карта"
   ]
  },
  {
   "cell_type": "markdown",
   "metadata": {},
   "source": [
    "| В тёмных тонах                                                                                                                                           | В светлых тонах                                                                                                                                          |\n",
    "|----------------------------------------------------------------------------------------------------------------------------------------------------------|----------------------------------------------------------------------------------------------------------------------------------------------------------|\n",
    "| <a href=\"https://ibb.co/QK9DWbc\"><img src=\"https://i.ibb.co/0Gqs0DX/1200px-World-map-blue-dots-1.gif\" alt=\"1200px-World-map-blue-dots-1\" border=\"0\"></a> | <a href=\"https://ibb.co/xfLJ94c\"><img src=\"https://i.ibb.co/Tb2mjCn/1200px-World-map-blue-dots-2.gif\" alt=\"1200px-World-map-blue-dots-2\" border=\"0\"></a> |"
   ]
  },
  {
   "cell_type": "markdown",
   "metadata": {},
   "source": [
    "## 2. Интерактивная карта \n",
    "_*MVP_  \n",
    "_Пока без наполнения_"
   ]
  },
  {
   "cell_type": "code",
   "execution_count": 18,
   "metadata": {},
   "outputs": [
    {
     "data": {
      "text/html": [
       "\n",
       "        <iframe\n",
       "            width=\"100%\"\n",
       "            height=\"500\"\n",
       "            src=\"https://nbviewer.jupyter.org/github/Witold1/fast_draft/blob/master/claster_map.html\"\n",
       "            frameborder=\"0\"\n",
       "            allowfullscreen\n",
       "        ></iframe>\n",
       "        "
      ],
      "text/plain": [
       "<IPython.lib.display.IFrame at 0x205a9cbb38>"
      ]
     },
     "execution_count": 18,
     "metadata": {},
     "output_type": "execute_result"
    }
   ],
   "source": [
    "from IPython.display import IFrame\n",
    "IFrame(src='https://nbviewer.jupyter.org/github/Witold1/fast_draft/blob/master/claster_map.html', width='100%', height='500')"
   ]
  },
  {
   "cell_type": "markdown",
   "metadata": {},
   "source": [
    "## 3. Профиль города*\n",
    "_*MVP_  \n",
    "_В идеальном мире такое может открываться по клику на кластер на карте выше_"
   ]
  },
  {
   "cell_type": "markdown",
   "metadata": {},
   "source": [
    "<a href=\"https://ibb.co/JcCkSN9\"><img src=\"https://i.ibb.co/XWVJG9q/5545554.png\" alt=\"5545554\" border=\"0\"></a>"
   ]
  },
  {
   "cell_type": "markdown",
   "metadata": {},
   "source": [
    "## 4. Сеть связей разделов и 35 областей\n",
    "_\"Кластер\" -- раздел_"
   ]
  },
  {
   "cell_type": "markdown",
   "metadata": {},
   "source": [
    "| Заготовка                                                                                                          | Идея (слишком далекая)                                                                                                                |\n",
    "|--------------------------------------------------------------------------------------------------------------------|----------------------------------------------------------------------------------------------------------------------|\n",
    "| <a href=\"https://ibb.co/r2hrNnS\"><img src=\"https://i.ibb.co/PGyH0Bn/Untitled1.png\" alt=\"Untitled1\" border=\"0\"></a> | <a href=\"https://ibb.co/W65Yc5d\"><img src=\"https://i.ibb.co/Vt9Pv9h/5545554444.png\" alt=\"5545554444\" border=\"0\"></a> |"
   ]
  },
  {
   "cell_type": "markdown",
   "metadata": {},
   "source": [
    "## 5. Матрица ИТС\n",
    "_Сейчас размер кружка -> ИТС. Лучше будет заменить на что-то другое_"
   ]
  },
  {
   "cell_type": "markdown",
   "metadata": {},
   "source": [
    "| Заготовка                                                                                                  | [Идея](https://nicolasrapp.com/studio/portfolio/global-500-matrix/) |\n",
    "|------------------------------------------------------------------------------------------------------------|----------------------------------------------------------------------------------------------------------------|\n",
    "| <a href=\"https://ibb.co/tsVgRJ0\"><img src=\"https://i.ibb.co/58bmZRQ/image.png\" alt=\"image\" border=\"0\"></a> | <a href=\"https://nicolasrapp.com/studio/wp-content/uploads/2017/10/matrix_global.jpg\"><img src=\"https://nicolasrapp.com/studio/wp-content/uploads/2017/10/matrix_global.jpg\" alt=\"image\" border=\"0\" width='50%'></a>  |"
   ]
  },
  {
   "cell_type": "markdown",
   "metadata": {},
   "source": [
    "## 6. Приросты. \"Индекс небоскребов\"\n",
    "_Оформить левый график \"в\" правый (топ 5 и топ -5) в виде инфографики_"
   ]
  },
  {
   "cell_type": "markdown",
   "metadata": {},
   "source": [
    "| Заготовка                                                                                                               | [Идея](https://content.knightfrank.com/resources/knightfrank.com/global-cities/knight-frank-global-cities.pdf)                                            |\n",
    "|-------------------------------------------------------------------------------------------------------------------------|-----------------------------------------------------------------------------------------------------------------------------------------------------------|\n",
    "| <a href=\"https://ibb.co/CvPpc11\"><img src=\"https://i.ibb.co/QnD7gbb/image.png\" alt=\"image\" border=\"0\" width='70%'></a> | <a href=\"https://ibb.co/grRShjw\"><img src=\"https://i.ibb.co/FhD5CxJ/5545.png\" alt=\"5545\" border=\"0\" width='80%'></a><br /><a target='_blank' href='https://ru.imgbb.com/'>free image hosting</a> |"
   ]
  },
  {
   "cell_type": "markdown",
   "metadata": {},
   "source": [
    "## Что еще расчитываю успеть:\n",
    "1. Разделение по регионам (Америки, Европа, Восточная Азия и Тихий океан, Африка и Ближний Восток) для общих цифр по выборке. \n",
    "\n",
    "        1.1. Разделение регионов на страны.\n",
    "2. Доли заявок из Hi/Low tech по городам на основе 35 областей (как в статье _Кузьмин, Стрельцова _ Российские технограды/The technological specialization of the cities_).\n",
    "3. Описательные статистики выборки в сравнении с миром (доля на выборку по годам, хотя бы).\n",
    "4. Интерактивная табличка в закрепленным название кластера (как в https://www.bcg.com/publications/collections/most-innovative-companies-2019-artificial-intelligence-platforms-ecosystems.aspx при открытии на мобильном телефоне с недостаточной шириной экрана), чтобы решить проблему многостраничного (как в GII) рейтинга или статичная, но с индексом строк (как в Global Metro Monitor 2018 от The Brookings Institution), чтобы было легко искать соответствующий город если есть продолжение на второй странице."
   ]
  },
  {
   "cell_type": "markdown",
   "metadata": {},
   "source": [
    "Источники:\n",
    "* Отчеты Knight Frank, Fortune 500, The Brookings Institution (Metropolitan Policy Program), BCG, Brand Finance (Footbal 50, 2017). Точный список всех отчетов лежит в файлах на телефоне."
   ]
  },
  {
   "cell_type": "markdown",
   "metadata": {},
   "source": [
    "# Часть 2"
   ]
  },
  {
   "cell_type": "markdown",
   "metadata": {},
   "source": [
    "## 7. Сеть 2. Тех. области и разделы\n",
    "_Примерно одинаковые данные по заявкам и указанным тех.областям, Москва_"
   ]
  },
  {
   "cell_type": "markdown",
   "metadata": {},
   "source": [
    "| <a href=\"https://ibb.co/QXCNf5V\"><img src=\"https://i.ibb.co/XV3sbwP/asdasdawawdw.png\" alt=\"image\" border=\"0\" width='70%'></a>     | <a href=\"https://ibb.co/SnHLt8t\"><img src=\"https://i.ibb.co/DCmq9y9/asdasdawawdw111.png\" alt=\"image\" border=\"0\" width='70%'></a> |\n",
    "|-----------------------------------------------------------------------------------------------------------------------------------|----------------------------------------------------------------------------------------------------------------------------------|\n",
    "| <a href=\"https://ibb.co/ZG5fC0g\"><img src=\"https://i.ibb.co/2WxFBTM/554555444wqwdwq4.png\" alt=\"image\" border=\"0\" width='70%'></a> | <a href=\"https://ibb.co/wJg2RFQ\"><img src=\"https://i.ibb.co/1sQ4LtX/image.jpg\" alt=\"image\" border=\"0\" width='70%'></a>_Можно кастомизировать области и разделы, как [в матрице ИТС](#5.-Матрица-ИТС)_         |"
   ]
  },
  {
   "cell_type": "markdown",
   "metadata": {},
   "source": [
    "## 8. High/Low/Mixed-tech\n",
    "_Заготовки и несколько идей сравнения всей выборки_"
   ]
  },
  {
   "cell_type": "markdown",
   "metadata": {},
   "source": [
    "| заготовки                                                                                                                                              | Идея 1                                                                                                   | Идея 2                                                                                                                                        |\n",
    "|--------------------------------------------------------------------------------------------------------------------------------------------------------|----------------------------------------------------------------------------------------------------------|----------------------------------------------------------------------------------------------------------------------------------------------|\n",
    "| <a href=\"https://ibb.co/TTBfhzL\"><img src=\"https://i.ibb.co/wLNk6Ds/asdaawwqweqwasd.png\" alt=\"asdaawwqweqwasd\" alt=\"image\" border=\"0\" width='70%'></a> | <a href=\"https://i.ibb.co/MZLq19m/medium.jpg\"><img src=\"https://i.ibb.co/MZLq19m/medium.jpg\" alt=\"asdaawwqweqwasd\" alt=\"image\" border=\"0\" width='70%'></a> | <a href=\"https://ibb.co/C5wxJVQ\"><img src=\"https://i.ibb.co/tMHyZYD/114-EGOT-Full-1024x509.jpg\" alt=\"asdaawwqweqwasd\" alt=\"image\" border=\"0\" width='70%'></a> |"
   ]
  },
  {
   "cell_type": "markdown",
   "metadata": {},
   "source": [
    "## 9. Сравнение регионов\n",
    "_Несколько вариантов сравнить регионы, если в этом есть необходимость_"
   ]
  },
  {
   "cell_type": "markdown",
   "metadata": {},
   "source": [
    "| Заготовка                                                                                                                                                                              | Идея                                                                                                                   |\n",
    "|----------------------------------------------------------------------------------------------------------------------------------------------------------------------------------------|------------------------------------------------------------------------------------------------------------------------|\n",
    "| <a href=\"https://ibb.co/qnRB6C3\"><img src=\"https://i.ibb.co/z5SsdFT/asdasd.png\" alt=\"image\" border=\"0\" width='90%'></a> | <a href=\"https://ibb.co/rcSYkSd\"><img src=\"https://i.ibb.co/txtgBtL/image.png\" alt=\"image\" border=\"0\" width='70%'></a> |\n",
    "| <a href=\"https://ibb.co/WkmCqFr\"><img src=\"https://i.ibb.co/F5RpNJQ/asdasdasda.png\" alt=\"image\" border=\"0\" width='70%'></a>                                                                   |                                                                                                                        |"
   ]
  },
  {
   "cell_type": "markdown",
   "metadata": {},
   "source": [
    "## 10. Заявители и области\n",
    "_Я не придумал, как и с помощью чего реализовать идею, но она мне нравится_"
   ]
  },
  {
   "cell_type": "markdown",
   "metadata": {},
   "source": [
    "| Заготовка                                                                                                                                      | [Идея](https://nicolasrapp.com/studio/portfolio/fortune-500-the-biome-of-business/)                                                                                                |\n",
    "|------------------------------------------------------------------------------------------------------------------------------------------------|------------------------------------------------------------------------------------------------------------------------------------------------------------------------------------|\n",
    "| <a href=\"https://imgbb.com/\"><img src=\"https://i.ibb.co/mT8yV88/qweqweqwe.png\"  alt=\"image\" border=\"0\" width='80%'></a>                                 | <a href=\"https://i.ibb.co/tLx5Krx/RAP-W-06-19-XMIT-R1-1116x1488.png\"><img src=\"https://i.ibb.co/tLx5Krx/RAP-W-06-19-XMIT-R1-1116x1488.png\" alt=\"image\" border=\"0\" width='70%'></a> |\n",
    "| <a href=\"https://ibb.co/tZDnQMn\"><img src=\"https://i.ibb.co/RhctYpt/5545554444sdfdsfasdasdw.png\"  alt=\"image\" border=\"0\" width='70%'></a> | <a href=\"https://imgbb.com/\"><img src=\"https://i.ibb.co/M9FRLF9/dwqdqdsdxzcac.png\" alt=\"image\" border=\"0\" width='70%'></a>                                                                                                                |"
   ]
  },
  {
   "cell_type": "code",
   "execution_count": null,
   "metadata": {},
   "outputs": [],
   "source": []
  }
 ],
 "metadata": {
  "kernelspec": {
   "display_name": "Python 3",
   "language": "python",
   "name": "python3"
  },
  "language_info": {
   "codemirror_mode": {
    "name": "ipython",
    "version": 3
   },
   "file_extension": ".py",
   "mimetype": "text/x-python",
   "name": "python",
   "nbconvert_exporter": "python",
   "pygments_lexer": "ipython3",
   "version": "3.7.3"
  }
 },
 "nbformat": 4,
 "nbformat_minor": 2
}
